{
  "nbformat": 4,
  "nbformat_minor": 0,
  "metadata": {
    "colab": {
      "provenance": [],
      "authorship_tag": "ABX9TyN0Gxkl11kv5UErG/IZT4rH",
      "include_colab_link": true
    },
    "kernelspec": {
      "name": "python3",
      "display_name": "Python 3"
    },
    "language_info": {
      "name": "python"
    }
  },
  "cells": [
    {
      "cell_type": "markdown",
      "metadata": {
        "id": "view-in-github",
        "colab_type": "text"
      },
      "source": [
        "<a href=\"https://colab.research.google.com/github/Sivachaboli/Codtech-task1/blob/main/Untitled4.ipynb\" target=\"_parent\"><img src=\"https://colab.research.google.com/assets/colab-badge.svg\" alt=\"Open In Colab\"/></a>"
      ]
    },
    {
      "cell_type": "code",
      "execution_count": 5,
      "metadata": {
        "colab": {
          "base_uri": "https://localhost:8080/"
        },
        "id": "bBlQ5VBq4r-T",
        "outputId": "a5067ebf-87b5-425d-8a65-fc5fce1aae6b"
      },
      "outputs": [
        {
          "output_type": "stream",
          "name": "stdout",
          "text": [
            "what is your name ?siva\n",
            "what is your age ?20\n",
            "siva\n",
            "20\n"
          ]
        }
      ],
      "source": [
        "name =input(\"what is your name ?\")\n",
        "age =input(\"what is your age ?\")\n",
        "print(name)\n",
        "print(age)\n"
      ]
    }
  ]
}