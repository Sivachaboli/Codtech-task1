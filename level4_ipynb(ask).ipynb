{
  "nbformat": 4,
  "nbformat_minor": 0,
  "metadata": {
    "colab": {
      "provenance": [],
      "authorship_tag": "ABX9TyM95hVyh1apjfEpmnXpaOG/",
      "include_colab_link": true
    },
    "kernelspec": {
      "name": "python3",
      "display_name": "Python 3"
    },
    "language_info": {
      "name": "python"
    }
  },
  "cells": [
    {
      "cell_type": "markdown",
      "metadata": {
        "id": "view-in-github",
        "colab_type": "text"
      },
      "source": [
        "<a href=\"https://colab.research.google.com/github/Sivachaboli/Codtech-task1/blob/main/level4_ipynb(ask).ipynb\" target=\"_parent\"><img src=\"https://colab.research.google.com/assets/colab-badge.svg\" alt=\"Open In Colab\"/></a>"
      ]
    },
    {
      "cell_type": "code",
      "execution_count": 2,
      "metadata": {
        "colab": {
          "base_uri": "https://localhost:8080/"
        },
        "id": "XQySzPLl1-uV",
        "outputId": "a7db9923-9d9d-4aac-f299-40f2f8a2d7ce"
      },
      "outputs": [
        {
          "output_type": "stream",
          "name": "stdout",
          "text": [
            "the average_height is 7.0. the maximum height is (6.0, 7.0, 8.0). the minimum height is (6.0, 7.0, 8.0)\n"
          ]
        }
      ],
      "source": [
        "# this code is to measure the avg height\n",
        "height_csk =6.0\n",
        "height_siva =7.0\n",
        "height_chaboli =8.0\n",
        "average_height =(height_csk+height_siva+height_chaboli)/3\n",
        "maximum_height =(height_csk,height_siva,height_chaboli)\n",
        "minimum_height =(height_csk,height_siva,height_chaboli)\n",
        "print(\"the average_height is \"+str(average_height)+\". the maximum height is \"+str(maximum_height)+\". the minimum height is \"+str(minimum_height))"
      ]
    }
  ]
}