{
  "nbformat": 4,
  "nbformat_minor": 0,
  "metadata": {
    "colab": {
      "provenance": [],
      "authorship_tag": "ABX9TyNib/vy3EGMRlz8CGAG7pR7",
      "include_colab_link": true
    },
    "kernelspec": {
      "name": "python3",
      "display_name": "Python 3"
    },
    "language_info": {
      "name": "python"
    }
  },
  "cells": [
    {
      "cell_type": "markdown",
      "metadata": {
        "id": "view-in-github",
        "colab_type": "text"
      },
      "source": [
        "<a href=\"https://colab.research.google.com/github/Sivachaboli/Codtech-task1/blob/main/LEVEL4_ipynb(CSK).ipynb\" target=\"_parent\"><img src=\"https://colab.research.google.com/assets/colab-badge.svg\" alt=\"Open In Colab\"/></a>"
      ]
    },
    {
      "cell_type": "code",
      "source": [
        "# PYTHON USING DEF FUNCTION\n",
        "name =input(\"what is his name \")\n",
        "age =input(\"what is \"+name+\"'s age?\")\n",
        "\n",
        "def age_is_one_year(name,age):\n",
        "  age_next_year = int(age) + 1\n",
        "  print(\"In one year, \"+name + \" will be \" + str(age_next_year)+\" years old.\")\n",
        "\n",
        "age_is_one_year(name,age)"
      ],
      "metadata": {
        "colab": {
          "base_uri": "https://localhost:8080/"
        },
        "id": "Aqs74m5W0zko",
        "outputId": "2f24f954-302b-4dc0-e53f-f02c0fd0383b"
      },
      "execution_count": 5,
      "outputs": [
        {
          "output_type": "stream",
          "name": "stdout",
          "text": [
            "what is his name Siva\n",
            "what is Siva's age?23\n",
            "In one year, Siva will be 24 years old.\n"
          ]
        }
      ]
    }
  ]
}