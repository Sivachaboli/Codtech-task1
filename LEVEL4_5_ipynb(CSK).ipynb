{
  "nbformat": 4,
  "nbformat_minor": 0,
  "metadata": {
    "colab": {
      "provenance": [],
      "authorship_tag": "ABX9TyMRg5caI1Z9a908hg/VrZY/",
      "include_colab_link": true
    },
    "kernelspec": {
      "name": "python3",
      "display_name": "Python 3"
    },
    "language_info": {
      "name": "python"
    }
  },
  "cells": [
    {
      "cell_type": "markdown",
      "metadata": {
        "id": "view-in-github",
        "colab_type": "text"
      },
      "source": [
        "<a href=\"https://colab.research.google.com/github/Sivachaboli/Codtech-task1/blob/main/LEVEL4_5_ipynb(CSK).ipynb\" target=\"_parent\"><img src=\"https://colab.research.google.com/assets/colab-badge.svg\" alt=\"Open In Colab\"/></a>"
      ]
    },
    {
      "cell_type": "code",
      "source": [
        "# THIS CODE IS TO CONVERT FAHRENHEIN TO CELCIUS\n",
        "def convert_fahrenhein_to_celcius(a):\n",
        "  return(a-32)/1.8\n",
        "\n",
        "convert_fahrenhein_to_celcius(80)"
      ],
      "metadata": {
        "colab": {
          "base_uri": "https://localhost:8080/"
        },
        "id": "YU--Llvv-Wvu",
        "outputId": "5e3fea37-f7f9-4afb-a39e-62d507f5a7be"
      },
      "execution_count": 10,
      "outputs": [
        {
          "output_type": "execute_result",
          "data": {
            "text/plain": [
              "26.666666666666664"
            ]
          },
          "metadata": {},
          "execution_count": 10
        }
      ]
    },
    {
      "cell_type": "code",
      "source": [
        "# THIS CODE IS TO CONVERT CELCIUS TO FAHRENHEIN\n",
        "def convert_celcius_to_fahrenhein(a):\n",
        "  return a*1.8+32\n",
        "\n",
        "convert_celcius_to_fahrenhein(27)"
      ],
      "metadata": {
        "colab": {
          "base_uri": "https://localhost:8080/"
        },
        "id": "NOS35ZOM_R-E",
        "outputId": "99361832-017e-4c01-ebe6-1f791b8e6625"
      },
      "execution_count": 11,
      "outputs": [
        {
          "output_type": "execute_result",
          "data": {
            "text/plain": [
              "80.6"
            ]
          },
          "metadata": {},
          "execution_count": 11
        }
      ]
    }
  ]
}