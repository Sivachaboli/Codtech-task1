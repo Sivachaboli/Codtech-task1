{
  "nbformat": 4,
  "nbformat_minor": 0,
  "metadata": {
    "colab": {
      "provenance": [],
      "authorship_tag": "ABX9TyPFZ5w5UlS5Q74xNsA80LOh",
      "include_colab_link": true
    },
    "kernelspec": {
      "name": "python3",
      "display_name": "Python 3"
    },
    "language_info": {
      "name": "python"
    }
  },
  "cells": [
    {
      "cell_type": "markdown",
      "metadata": {
        "id": "view-in-github",
        "colab_type": "text"
      },
      "source": [
        "<a href=\"https://colab.research.google.com/github/Sivachaboli/Codtech-task1/blob/main/Untitled3.ipynb\" target=\"_parent\"><img src=\"https://colab.research.google.com/assets/colab-badge.svg\" alt=\"Open In Colab\"/></a>"
      ]
    },
    {
      "cell_type": "code",
      "execution_count": 9,
      "metadata": {
        "colab": {
          "base_uri": "https://localhost:8080/"
        },
        "id": "L-7M52qVXuES",
        "outputId": "7ebff1e1-4a30-4bf7-e358-f571d28447eb"
      },
      "outputs": [
        {
          "output_type": "stream",
          "name": "stdout",
          "text": [
            "Your name is siva\n",
            "Your name,height and age is: siva,5.6 and age is20\n",
            "<class 'str'>\n",
            "<class 'float'>\n",
            "<class 'int'>\n"
          ]
        }
      ],
      "source": [
        "name =\"siva\"\n",
        "print(\"Your name is \"+name)\n",
        "height =5.6\n",
        "age=20\n",
        "print(\"Your name,height and age is: \"+name+\",\"+str(height)+\" and age is\"+str(age))\n",
        "print(type(name))\n",
        "print(type(height))\n",
        "print(type(age))\n"
      ]
    }
  ]
}