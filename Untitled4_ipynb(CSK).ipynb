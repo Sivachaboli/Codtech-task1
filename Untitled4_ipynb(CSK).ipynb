{
  "nbformat": 4,
  "nbformat_minor": 0,
  "metadata": {
    "colab": {
      "provenance": [],
      "authorship_tag": "ABX9TyOg+6vUQQSO2LovZnLlX8CS",
      "include_colab_link": true
    },
    "kernelspec": {
      "name": "python3",
      "display_name": "Python 3"
    },
    "language_info": {
      "name": "python"
    }
  },
  "cells": [
    {
      "cell_type": "markdown",
      "metadata": {
        "id": "view-in-github",
        "colab_type": "text"
      },
      "source": [
        "<a href=\"https://colab.research.google.com/github/Sivachaboli/Codtech-task1/blob/main/Untitled4_ipynb(CSK).ipynb\" target=\"_parent\"><img src=\"https://colab.research.google.com/assets/colab-badge.svg\" alt=\"Open In Colab\"/></a>"
      ]
    },
    {
      "cell_type": "code",
      "execution_count": 1,
      "metadata": {
        "colab": {
          "base_uri": "https://localhost:8080/"
        },
        "id": "wME-j1E2xngy",
        "outputId": "4fa4b1e6-e2cf-47a8-a6d4-4c8515c37c23"
      },
      "outputs": [
        {
          "output_type": "stream",
          "name": "stdout",
          "text": [
            "what is your name?siva\n",
            "what is your age?20\n",
            "your name is siva and your age is 20.\n"
          ]
        }
      ],
      "source": [
        "#PYTHON\n",
        "name = input(\"what is your name?\")\n",
        "age =input(\"what is your age?\")\n",
        "print(\"your name is \"+name+\" and your age is \"+age+\".\")"
      ]
    }
  ]
}