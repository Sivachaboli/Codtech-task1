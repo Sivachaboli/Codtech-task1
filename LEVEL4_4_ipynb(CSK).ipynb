{
  "nbformat": 4,
  "nbformat_minor": 0,
  "metadata": {
    "colab": {
      "provenance": [],
      "authorship_tag": "ABX9TyOdlL8TLIhq25KmYIUaIzbK",
      "include_colab_link": true
    },
    "kernelspec": {
      "name": "python3",
      "display_name": "Python 3"
    },
    "language_info": {
      "name": "python"
    }
  },
  "cells": [
    {
      "cell_type": "markdown",
      "metadata": {
        "id": "view-in-github",
        "colab_type": "text"
      },
      "source": [
        "<a href=\"https://colab.research.google.com/github/Sivachaboli/Codtech-task1/blob/main/LEVEL4_4_ipynb(CSK).ipynb\" target=\"_parent\"><img src=\"https://colab.research.google.com/assets/colab-badge.svg\" alt=\"Open In Colab\"/></a>"
      ]
    },
    {
      "cell_type": "code",
      "source": [
        "# PYTHON(TITANIC)\n",
        "name =input(\"who was on the Titanic?\")\n",
        "year =input(\"what year is it? \")\n",
        "\n",
        "def titanic(name,year):\n",
        "  year =int(year)\n",
        "  year = year - 1912\n",
        "  year =str(year)\n",
        "  print(name + \" were on the Titanic, which sunk \" + year + \" years ago.\")\n",
        "\n",
        "titanic(name,year)\n",
        "\n"
      ],
      "metadata": {
        "colab": {
          "base_uri": "https://localhost:8080/"
        },
        "id": "NP_yweTH4f43",
        "outputId": "b6ce7ce6-2e57-4d02-acf5-3dc3438f9905"
      },
      "execution_count": 8,
      "outputs": [
        {
          "output_type": "stream",
          "name": "stdout",
          "text": [
            "who was on the Titanic?jack and rose\n",
            "what year is it? 2025\n",
            "jack and rose were on the Titanic, which sunk 113 years ago.\n"
          ]
        }
      ]
    }
  ]
}